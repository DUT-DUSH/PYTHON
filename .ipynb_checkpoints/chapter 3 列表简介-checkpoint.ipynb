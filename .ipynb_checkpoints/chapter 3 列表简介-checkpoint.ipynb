{
 "cells": [
  {
   "cell_type": "markdown",
   "id": "5b99b00e",
   "metadata": {},
   "source": [
    "##  3.1 列表是什么"
   ]
  },
  {
   "cell_type": "code",
   "execution_count": 1,
   "id": "5a081224",
   "metadata": {},
   "outputs": [
    {
     "name": "stdout",
     "output_type": "stream",
     "text": [
      "['trek', 'cannondale', 'reaQqdline', 'specialized']\n",
      "Trek\n",
      "specialized\n",
      "reaQqdline\n",
      "My first bicycle was a Trek\n"
     ]
    }
   ],
   "source": [
    "bicycles = ['trek', 'cannondale', 'reaQqdline', 'specialized']\n",
    "print(bicycles)\n",
    "\n",
    "\n",
    "# 访问列表元素\n",
    "print(bicycles[0].title())\n",
    "\n",
    "#访问最后一个元素可指定-1，其他同C++\n",
    "print(bicycles[-1])\n",
    "print(bicycles[-2])\n",
    "\n",
    "#列表的使用\n",
    "message = f\"My first bicycle was a {bicycles[0].title()}\"\n",
    "print(message)\n",
    "\n"
   ]
  },
  {
   "cell_type": "markdown",
   "id": "92ae3394",
   "metadata": {},
   "source": [
    "## 3.2 修改、添加、删除元素"
   ]
  },
  {
   "cell_type": "code",
   "execution_count": 2,
   "id": "f55e0898",
   "metadata": {},
   "outputs": [
    {
     "name": "stdout",
     "output_type": "stream",
     "text": [
      "['honda', 'yamaha', 'suzuki']\n",
      "['honda', 'yamaha', 'suzuki', 'ducati']\n",
      "['ducaticopy', 'honda', 'yamaha', 'suzuki', 'ducati']\n",
      "['honda', 'yamaha', 'suzuki', 'ducati']\n",
      "['yamaha', 'suzuki', 'ducati']\n",
      "honda\n",
      "['yamaha', 'suzuki']\n"
     ]
    }
   ],
   "source": [
    "#修改即直接用下标修改\n",
    "motorcycles = ['honda', 'yamaha', 'suzuki']\n",
    "print(motorcycles)\n",
    "\n",
    "\n",
    "#添加元素\n",
    "motorcycles.append('ducati')    #在列表末尾添加元素，常见的动态创建列表的方式\n",
    "print(motorcycles)\n",
    "\n",
    "motorcycles.insert(0,'ducaticopy')\n",
    "print(motorcycles)\n",
    "\n",
    "\n",
    "#删除元素    del不保存   pop()保存\n",
    "del motorcycles[0]    #使用del语句根据索引删除元素\n",
    "print(motorcycles)\n",
    "\n",
    "first_owned = motorcycles.pop(0)    #使用pop()一个元素,不加索引默认是弹出最后一个元素\n",
    "print(motorcycles)\n",
    "print(first_owned)\n",
    "\n",
    "\n",
    "motorcycles.remove('ducati')    #根据值删除元素\n",
    "print(motorcycles)\n",
    "\n",
    "\n",
    "#感觉区别是del像是个无返回值的函数，而pop()是字符串调用的函数，所以pop有返回值\n",
    "#前面这个py中叫做函数，而后面这个叫做字符串的方法  有区别的"
   ]
  },
  {
   "cell_type": "markdown",
   "id": "a2dfeb6c",
   "metadata": {},
   "source": [
    "## 3.3 组织列表"
   ]
  },
  {
   "cell_type": "code",
   "execution_count": 3,
   "id": "1ebdb7f7",
   "metadata": {},
   "outputs": [
    {
     "name": "stdout",
     "output_type": "stream",
     "text": [
      "['audi', 'bmw', 'subaru', 'toyota']\n",
      "['toyota', 'subaru', 'bmw', 'audi']\n",
      "['bmw', 'audi', 'toyota', 'subaru']\n",
      "['audi', 'bmw', 'subaru', 'toyota']\n",
      "['bmw', 'audi', 'toyota', 'subaru']\n",
      "['subaru', 'toyota', 'audi', 'bmw']\n",
      "4\n"
     ]
    }
   ],
   "source": [
    "#方法sort()：对列表永久排序\n",
    "cars = ['bmw', 'audi', 'toyota', 'subaru']\n",
    "cars.sort()\n",
    "print(cars)\n",
    "\n",
    "cars.sort(reverse=True)    #字典序相反的顺序\n",
    "print(cars)\n",
    "\n",
    "\n",
    "#函数sorted()：对列表临时排序\n",
    "cars = ['bmw', 'audi', 'toyota', 'subaru']\n",
    "print(cars)\n",
    "print(sorted(cars))\n",
    "print(cars)\n",
    " \n",
    "\n",
    "#方法reverse()：反转列表\n",
    "cars = ['bmw', 'audi', 'toyota', 'subaru']\n",
    "cars.reverse()\n",
    "print(cars)\n",
    "\n",
    "\n",
    "#函数len()：获取列表长度\n",
    "print(len(cars))"
   ]
  }
 ],
 "metadata": {
  "kernelspec": {
   "display_name": "Python 3 (ipykernel)",
   "language": "python",
   "name": "python3"
  },
  "language_info": {
   "codemirror_mode": {
    "name": "ipython",
    "version": 3
   },
   "file_extension": ".py",
   "mimetype": "text/x-python",
   "name": "python",
   "nbconvert_exporter": "python",
   "pygments_lexer": "ipython3",
   "version": "3.9.7"
  }
 },
 "nbformat": 4,
 "nbformat_minor": 5
}
