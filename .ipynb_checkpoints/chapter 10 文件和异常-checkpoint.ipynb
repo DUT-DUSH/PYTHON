{
 "cells": [
  {
   "cell_type": "markdown",
   "id": "5a6dce87",
   "metadata": {},
   "source": [
    "## 10.1从文件中读取数据"
   ]
  },
  {
   "cell_type": "code",
   "execution_count": null,
   "id": "7b1dc217",
   "metadata": {},
   "outputs": [],
   "source": [
    "#read()返回一个字符串\n",
    "with open('pi_digits.txt') as file_object:\n",
    "    contents = file_object.read()\n",
    "print(contents.rstrip())\n",
    "\n",
    "#遍历文件对象\n",
    "with open('pi_digits.txt') as file_object:\n",
    "    for line in file_object:\n",
    "        print(line.rstrip())\n",
    "\n",
    "#readlines()返回一个列表\n",
    "filename = 'pi_millon_digits.txt'\n",
    "with open(filename) as file_object:\n",
    "    lines = file_object.readlines()\n",
    "\n",
    "pi_string = ''\n",
    "for line in lines:\n",
    "    pi_string+=line.strip()\n",
    "\n",
    "birthday = '0624'\n",
    "if birthday in pi_string:\n",
    "    print(\"YES\")"
   ]
  },
  {
   "cell_type": "markdown",
   "id": "c1559db1",
   "metadata": {},
   "source": [
    "## 10.2 写入文件"
   ]
  },
  {
   "cell_type": "code",
   "execution_count": null,
   "id": "7153cad7",
   "metadata": {},
   "outputs": [],
   "source": [
    "filename = 'programming.txt'\n",
    "\n",
    "#’w‘是写入模式，注意这里是清空原有内容并写入\n",
    "#如果没有该文件会自动创建\n",
    "with open(filename,'w') as file_object:\n",
    "    file_object.write(\"I love programming.\\n\")\n",
    "    file_object.write(\"I love creat new games.\\n\")\n",
    "\n",
    "#默认open是‘r’，即只读\n",
    "with open(filename) as file_object:\n",
    "    for line in file_object:\n",
    "        print(line.rstrip())\n",
    "\n",
    "#’a‘是附加模式，不会清空原有的内容\n",
    "with open(filename,'a') as file_object:\n",
    "    file_object.write(\"I love python.\\n\")\n",
    "\n",
    "with open(filename) as file_object:\n",
    "    for line in file_object:\n",
    "        print(line.rstrip())"
   ]
  },
  {
   "cell_type": "markdown",
   "id": "6841aefa",
   "metadata": {},
   "source": [
    "## 10.3 异常"
   ]
  },
  {
   "cell_type": "code",
   "execution_count": null,
   "id": "0bb06a34",
   "metadata": {},
   "outputs": [],
   "source": [
    "def count_words(filename):\n",
    "    \"\"\"计算一个文件大致包含多少个单词\"\"\"\n",
    "    try:\n",
    "        with open(filename,encoding='utf-8') as f:\n",
    "            contents = f.read()\n",
    "    except FileNotFoundError:\n",
    "        print(f\"Sorry, the file {filename} does not exist.\")    #pass就直接跳过\n",
    "    else:\n",
    "        words =   contents.split()  #以空格为分隔符拆分字符串，并存储到列表中\n",
    "        num_words = len(words)\n",
    "        print(f\"The file {filename} has about {num_words} words.\")\n",
    "\n",
    "filenames = [...]\n",
    "for filename in filenames:\n",
    "    count_words(filename)\n",
    "    "
   ]
  },
  {
   "cell_type": "markdown",
   "id": "61101519",
   "metadata": {},
   "source": [
    "## 10.4 存储数据"
   ]
  },
  {
   "cell_type": "code",
   "execution_count": null,
   "id": "14f6d97c",
   "metadata": {},
   "outputs": [],
   "source": [
    "import json\n",
    "\n",
    "filename = 'username.json'\n",
    "try:\n",
    "    with open(filename) as f:\n",
    "        username = json.load(f)     #加载f中的消息并赋给变量username\n",
    "except FileNotFoundError:\n",
    "    username = input(\"What's your name? \")\n",
    "    with open (filename,'w') as f:\n",
    "        json.dump(username,f)   #要存储的数据username->存储数据的文件对象\n",
    "        print(f\"We'll remember you when you come back, {username}!\")\n",
    "else:\n",
    "    print(f\"Welcome back {username}!\")"
   ]
  }
 ],
 "metadata": {
  "kernelspec": {
   "display_name": "Python 3 (ipykernel)",
   "language": "python",
   "name": "python3"
  },
  "language_info": {
   "codemirror_mode": {
    "name": "ipython",
    "version": 3
   },
   "file_extension": ".py",
   "mimetype": "text/x-python",
   "name": "python",
   "nbconvert_exporter": "python",
   "pygments_lexer": "ipython3",
   "version": "3.9.7"
  }
 },
 "nbformat": 4,
 "nbformat_minor": 5
}
