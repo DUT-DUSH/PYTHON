{
 "cells": [
  {
   "cell_type": "markdown",
   "id": "25e6dc37",
   "metadata": {},
   "source": [
    "## 2.3 字符串"
   ]
  },
  {
   "cell_type": "code",
   "execution_count": 1,
   "id": "55a07ff2",
   "metadata": {},
   "outputs": [
    {
     "name": "stdout",
     "output_type": "stream",
     "text": [
      "I told my friend , \"python is  my favorite language \"\n"
     ]
    }
   ],
   "source": [
    "#可以用单引号也可以用双引号\n",
    "#有灵活性，可以在字符串中包含引号\n",
    "\n",
    "message = 'I told my friend , \"python is  my favorite language \"'\n",
    "print(message)"
   ]
  },
  {
   "cell_type": "markdown",
   "id": "1c8a184b",
   "metadata": {},
   "source": [
    "### 2.3.1 使用方法修改字符串大小写"
   ]
  },
  {
   "cell_type": "code",
   "execution_count": 2,
   "id": "cf3cdb39",
   "metadata": {},
   "outputs": [
    {
     "name": "stdout",
     "output_type": "stream",
     "text": [
      "Ada Lovelace\n",
      "ADA LOVELACE\n",
      "ada lovelace\n"
     ]
    }
   ],
   "source": [
    "name = \"ada lovelace\"\n",
    "\n",
    "# title() 首字母大写\n",
    "print(name.title())\n",
    "\n",
    "#upper() & lower()\n",
    "print(name.upper())\n",
    "print(name.lower())\n"
   ]
  },
  {
   "cell_type": "markdown",
   "id": "a0ca214e",
   "metadata": {},
   "source": [
    "### 2.3.2 在字符串中使用变量"
   ]
  },
  {
   "cell_type": "code",
   "execution_count": 3,
   "id": "ee77d0d4",
   "metadata": {},
   "outputs": [
    {
     "name": "stdout",
     "output_type": "stream",
     "text": [
      "Hello, Ada Lovelace!\n"
     ]
    }
   ],
   "source": [
    "first_name = \"ada\"\n",
    "last_name = \"lovelace\"\n",
    "\n",
    "# f字符串（fomat） \n",
    "full_name = f\"{first_name} {last_name}\"\n",
    "message = f\"Hello, {full_name.title()}!\"\n",
    "\n",
    "print(message)"
   ]
  },
  {
   "cell_type": "markdown",
   "id": "83ce1b0f",
   "metadata": {},
   "source": [
    "### 2.3.4 删除空白"
   ]
  },
  {
   "cell_type": "code",
   "execution_count": 4,
   "id": "507aac88",
   "metadata": {
    "scrolled": true
   },
   "outputs": [
    {
     "name": "stdout",
     "output_type": "stream",
     "text": [
      " python\n",
      "python \n",
      "python\n"
     ]
    }
   ],
   "source": [
    "#rstrip:删除字符串末尾空白\n",
    "#lstrip:删除字符串开头空白\n",
    "#strip:删除字符串两边空白\n",
    "\n",
    "message = \" python \"\n",
    "print(message.rstrip())\n",
    "print(message.lstrip())\n",
    "print(message.strip())\n",
    "\n",
    "#注：这样只是输出而已，变量没有改变，要message = message.strip()"
   ]
  },
  {
   "cell_type": "code",
   "execution_count": null,
   "id": "2324c9d1",
   "metadata": {},
   "outputs": [],
   "source": []
  }
 ],
 "metadata": {
  "kernelspec": {
   "display_name": "Python 3 (ipykernel)",
   "language": "python",
   "name": "python3"
  },
  "language_info": {
   "codemirror_mode": {
    "name": "ipython",
    "version": 3
   },
   "file_extension": ".py",
   "mimetype": "text/x-python",
   "name": "python",
   "nbconvert_exporter": "python",
   "pygments_lexer": "ipython3",
   "version": "3.9.7"
  }
 },
 "nbformat": 4,
 "nbformat_minor": 5
}
