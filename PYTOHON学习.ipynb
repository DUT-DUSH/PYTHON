{
 "cells": [
  {
   "cell_type": "markdown",
   "id": "0521254b",
   "metadata": {},
   "source": [
    "# 第一部分"
   ]
  },
  {
   "cell_type": "code",
   "execution_count": 1,
   "id": "e6f95ea7",
   "metadata": {},
   "outputs": [
    {
     "name": "stdout",
     "output_type": "stream",
     "text": [
      "hello ptython\n"
     ]
    }
   ],
   "source": [
    "print(\"hello ptython\")"
   ]
  },
  {
   "cell_type": "code",
   "execution_count": null,
   "id": "07a32ea5",
   "metadata": {},
   "outputs": [],
   "source": []
  }
 ],
 "metadata": {
  "kernelspec": {
   "display_name": "Python 3 (ipykernel)",
   "language": "python",
   "name": "python3"
  },
  "language_info": {
   "codemirror_mode": {
    "name": "ipython",
    "version": 3
   },
   "file_extension": ".py",
   "mimetype": "text/x-python",
   "name": "python",
   "nbconvert_exporter": "python",
   "pygments_lexer": "ipython3",
   "version": "3.9.7"
  }
 },
 "nbformat": 4,
 "nbformat_minor": 5
}
