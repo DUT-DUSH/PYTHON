{
 "cells": [
  {
   "cell_type": "markdown",
   "id": "21453259",
   "metadata": {},
   "source": [
    "## 9.2 使用类和实例"
   ]
  },
  {
   "cell_type": "code",
   "execution_count": 1,
   "id": "3c234116",
   "metadata": {},
   "outputs": [
    {
     "name": "stdout",
     "output_type": "stream",
     "text": [
      "2015 Subaru Outback\n",
      "This car has 23500 miles on it.\n",
      "This car has 23600 miles on it.\n"
     ]
    }
   ],
   "source": [
    "class Car:\n",
    "    \"\"\"一次模拟汽车的简单尝试\"\"\"\n",
    "\n",
    "    def __init__(self, make, model, year):  # 每个方法都需要有self   #这地方有两个下划线！\n",
    "        \"\"\"初始化描述汽车的属性\"\"\"\n",
    "        self.make = make\n",
    "        self.model = model\n",
    "        self.year = year\n",
    "        self.odometer_reading = 0  # 给属性设定默认值\n",
    "\n",
    "    def get_discriptive_name(self):\n",
    "        \"\"\"返回整洁的描述性信息\"\"\"\n",
    "        long_name = f\"{self.year} {self.make} {self.model}\"\n",
    "        return long_name.title()\n",
    "\n",
    "    def update_odometer(self, milage):\n",
    "        \"\"\"\n",
    "        将里程表读数设置为指定的值\n",
    "        禁止里程表读数往回调\n",
    "        \"\"\"\n",
    "        if milage >= self.odometer_reading:\n",
    "            self.odometer_reading = milage\n",
    "        else:\n",
    "            print(\"You can't roll back an odometer !\")\n",
    "\n",
    "    def increment_odometer(self, miles):\n",
    "        self.odometer_reading += miles\n",
    "\n",
    "    def read_odometer(self):\n",
    "        \"\"\"打印出一条汽车里程的信息\"\"\"\n",
    "        print(f\"This car has {self.odometer_reading} miles on it.\")\n",
    "\n",
    "\n",
    "my_car = Car('subaru', 'outback', 2015)\n",
    "print(my_car.get_discriptive_name())\n",
    "\n",
    "my_car.update_odometer(23_500)\n",
    "my_car.read_odometer()\n",
    "\n",
    "my_car.increment_odometer(100)\n",
    "my_car.read_odometer()"
   ]
  },
  {
   "cell_type": "markdown",
   "id": "71399b24",
   "metadata": {},
   "source": [
    "## 9.3 继承"
   ]
  },
  {
   "cell_type": "code",
   "execution_count": 2,
   "id": "dd6f6ca9",
   "metadata": {},
   "outputs": [
    {
     "name": "stdout",
     "output_type": "stream",
     "text": [
      "2019 Tesla Model S\n",
      "This car has a 75-kwh battery.\n"
     ]
    }
   ],
   "source": [
    "class Car:\n",
    "    \"\"\"一次模拟汽车的简单尝试\"\"\"\n",
    "\n",
    "    def __init__(self, make, model, year):  # 每个方法都需要有self   #这地方有两个下划线！\n",
    "        \"\"\"初始化描述汽车的属性\"\"\"\n",
    "        self.make = make\n",
    "        self.model = model\n",
    "        self.year = year\n",
    "        self.odometer_reading = 0  # 给属性设定默认值\n",
    "\n",
    "    def get_discriptive_name(self):\n",
    "        \"\"\"返回整洁的描述性信息\"\"\"\n",
    "        long_name = f\"{self.year} {self.make} {self.model}\"\n",
    "        return long_name.title()\n",
    "\n",
    "    def update_odometer(self, milage):\n",
    "        \"\"\"\n",
    "        将里程表读数设置为指定的值\n",
    "        禁止里程表读数往回调\n",
    "        \"\"\"\n",
    "        if milage >= self.odometer_reading:\n",
    "            self.odometer_reading = milage\n",
    "        else:\n",
    "            print(\"You can't roll back an odometer !\")\n",
    "\n",
    "    def increment_odometer(self, miles):\n",
    "        self.odometer_reading += miles\n",
    "\n",
    "    def read_odometer(self):\n",
    "        \"\"\"打印出一条汽车里程的信息\"\"\"\n",
    "        print(f\"This car has {self.odometer_reading} miles on it.\")\n",
    "\n",
    "\n",
    "class Battery:\n",
    "    \"\"\"模拟电动汽车电瓶\"\"\"\n",
    "    def __init__(self, battery_size=75):\n",
    "        \"\"\"初始化电瓶的属性\"\"\"\n",
    "        self.battery_size = battery_size\n",
    "\n",
    "    def describe_battery(self):\n",
    "        print(f\"This car has a {self.battery_size}-kwh battery.\")\n",
    "\n",
    "\n",
    "class ElectricCar(Car):     #这是继承父类\n",
    "    \"\"\"电动车的独特之处\"\"\"\n",
    "    def __init__(self, make, model, year):\n",
    "        \"\"\"初始化父类的属性\"\"\"\n",
    "        super().__init__(make, model, year)\n",
    "        \"\"\"初始化特有的属性\"\"\"\n",
    "        self.battery = Battery()    #这是将实例作为属性\n",
    "        \n",
    "\n",
    "        \n",
    "my_tesla = ElectricCar('tesla', 'model s', 2019)\n",
    "print(my_tesla.get_discriptive_name())\n",
    "my_tesla.battery.describe_battery()"
   ]
  },
  {
   "cell_type": "markdown",
   "id": "a6295d2a",
   "metadata": {},
   "source": [
    "> 类名应采用**驼峰命名法**， 而实例名和模块名都采用**小写格式**，单词间使用**下划线**\n",
    "\n",
    "\n",
    "> 在类中用**一个空行**分隔方法， 模块中用**两个空行**分隔类"
   ]
  }
 ],
 "metadata": {
  "kernelspec": {
   "display_name": "Python 3 (ipykernel)",
   "language": "python",
   "name": "python3"
  },
  "language_info": {
   "codemirror_mode": {
    "name": "ipython",
    "version": 3
   },
   "file_extension": ".py",
   "mimetype": "text/x-python",
   "name": "python",
   "nbconvert_exporter": "python",
   "pygments_lexer": "ipython3",
   "version": "3.9.7"
  }
 },
 "nbformat": 4,
 "nbformat_minor": 5
}
