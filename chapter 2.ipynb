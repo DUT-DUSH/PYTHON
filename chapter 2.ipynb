{
 "cells": [
  {
   "cell_type": "markdown",
   "id": "25e6dc37",
   "metadata": {},
   "source": [
    "## 2.3 字符串"
   ]
  },
  {
   "cell_type": "code",
   "execution_count": 1,
   "id": "55a07ff2",
   "metadata": {},
   "outputs": [
    {
     "name": "stdout",
     "output_type": "stream",
     "text": [
      "I told my friend , \"python is  my favorite language \"\n"
     ]
    }
   ],
   "source": [
    "#可以用单引号也可以用双引号\n",
    "#有灵活性，可以在字符串中包含引号\n",
    "\n",
    "message = 'I told my friend , \"python is  my favorite language \"'\n",
    "print(message)"
   ]
  },
  {
   "cell_type": "markdown",
   "id": "c8767f76",
   "metadata": {},
   "source": [
    "### 2.3.1 使用方法修改字符串大小写"
   ]
  },
  {
   "cell_type": "code",
   "execution_count": 2,
   "id": "335a1976",
   "metadata": {},
   "outputs": [
    {
     "name": "stdout",
     "output_type": "stream",
     "text": [
      "Ada Lovelace\n",
      "ADA LOVELACE\n",
      "ada lovelace\n"
     ]
    }
   ],
   "source": [
    "name = \"ada lovelace\"\n",
    "\n",
    "# title() 首字母大写\n",
    "print(name.title())\n",
    "\n",
    "#upper() & lower()\n",
    "print(name.upper())\n",
    "print(name.lower())\n"
   ]
  },
  {
   "cell_type": "markdown",
   "id": "e9308004",
   "metadata": {},
   "source": [
    "### 2.3.2 在字符串中使用变量"
   ]
  },
  {
   "cell_type": "code",
   "execution_count": 3,
   "id": "eeec44df",
   "metadata": {},
   "outputs": [
    {
     "name": "stdout",
     "output_type": "stream",
     "text": [
      "Hello, Ada Lovelace!\n"
     ]
    }
   ],
   "source": [
    "first_name = \"ada\"\n",
    "last_name = \"lovelace\"\n",
    "\n",
    "# f字符串（fomat） \n",
    "full_name = f\"{first_name} {last_name}\"\n",
    "message = f\"Hello, {full_name.title()}!\"\n",
    "\n",
    "print(message)"
   ]
  },
  {
   "cell_type": "markdown",
   "id": "47c6514b",
   "metadata": {},
   "source": [
    "### 2.3.3 制表符以及换行符"
   ]
  },
  {
   "cell_type": "code",
   "execution_count": 4,
   "id": "4f4cb4b8",
   "metadata": {},
   "outputs": [
    {
     "name": "stdout",
     "output_type": "stream",
     "text": [
      "Languages:\n",
      "\tpython\n",
      "\tC++\n",
      "\tjava\n"
     ]
    }
   ],
   "source": [
    "# 同C++\n",
    "print(\"Languages:\\n\\tpython\\n\\tC++\\n\\tjava\")"
   ]
  },
  {
   "cell_type": "markdown",
   "id": "f45969a7",
   "metadata": {},
   "source": [
    "### 2.3.4 删除空白"
   ]
  },
  {
   "cell_type": "code",
   "execution_count": 5,
   "id": "96a19a19",
   "metadata": {
    "scrolled": true
   },
   "outputs": [
    {
     "name": "stdout",
     "output_type": "stream",
     "text": [
      " python\n",
      "python \n",
      "python\n"
     ]
    }
   ],
   "source": [
    "#rstrip:删除字符串末尾空白\n",
    "#lstrip:删除字符串开头空白\n",
    "#strip:删除字符串两边空白\n",
    "\n",
    "message = \" python \"\n",
    "print(message.rstrip())\n",
    "print(message.lstrip())\n",
    "print(message.strip())\n",
    "\n",
    "#注：这样只是输出而已，变量没有改变，要message = message.strip()"
   ]
  },
  {
   "cell_type": "markdown",
   "id": "7403d8d0",
   "metadata": {},
   "source": [
    "### 2.4 数"
   ]
  },
  {
   "cell_type": "markdown",
   "id": "9fd05bdd",
   "metadata": {},
   "source": [
    "### 2.4.1 整数与浮点数"
   ]
  },
  {
   "cell_type": "code",
   "execution_count": null,
   "id": "165cdd6d",
   "metadata": {},
   "outputs": [],
   "source": []
  },
  {
   "cell_type": "code",
   "execution_count": 6,
   "id": "b6069b79",
   "metadata": {},
   "outputs": [
    {
     "name": "stdout",
     "output_type": "stream",
     "text": [
      "5\n",
      "-1\n",
      "6\n",
      "0.6666666666666666\n",
      "8\n",
      "10\n",
      "2.0\n",
      "3.0\n",
      "6.0\n",
      "9.0\n"
     ]
    }
   ],
   "source": [
    "print(2+3)\n",
    "print(2-3)\n",
    "print(2*3)\n",
    "print(2/3)\n",
    "\n",
    "#幂运算\n",
    "print(2**3)\n",
    "print((2+3)*2)\n",
    "\n",
    "#任意两个数相除总是浮点数\n",
    "print(4/2)\n",
    "\n",
    "#只要有一个操作数是浮点数，结果总是浮点数\n",
    "print(1+2.0)\n",
    "print(2*3.0)\n",
    "print(3.0**2)"
   ]
  },
  {
   "cell_type": "markdown",
   "id": "a51877c3",
   "metadata": {},
   "source": [
    "### 2.4.4 数中的下划线"
   ]
  },
  {
   "cell_type": "code",
   "execution_count": 7,
   "id": "1b8e34b6",
   "metadata": {},
   "outputs": [
    {
     "name": "stdout",
     "output_type": "stream",
     "text": [
      "14000000000\n"
     ]
    }
   ],
   "source": [
    "#可以使用下划线将数字分组，但仅供阅读使用\n",
    "\n",
    "universe_age = 14_000_000_000\n",
    "print(universe_age)"
   ]
  },
  {
   "cell_type": "markdown",
   "id": "331ef99d",
   "metadata": {},
   "source": [
    "### 2.4.5 同时给多个变量赋值"
   ]
  },
  {
   "cell_type": "code",
   "execution_count": 8,
   "id": "267e0af3",
   "metadata": {},
   "outputs": [
    {
     "name": "stdout",
     "output_type": "stream",
     "text": [
      "0\n",
      "0\n",
      "0\n",
      "5000\n"
     ]
    }
   ],
   "source": [
    "x,y,z = 0, 0, 0\n",
    "print(x)\n",
    "print(y)\n",
    "print(z)\n",
    "#通过全大写指出该变量为常量\n",
    "MAX_CONNECTIONS = 5000\n",
    "print(MAX_CONNECTIONS)"
   ]
  },
  {
   "cell_type": "markdown",
   "id": "5843e4d0",
   "metadata": {},
   "source": [
    "### 2.6 python之禅"
   ]
  },
  {
   "cell_type": "code",
   "execution_count": 9,
   "id": "0c2a16b1",
   "metadata": {},
   "outputs": [
    {
     "name": "stdout",
     "output_type": "stream",
     "text": [
      "The Zen of Python, by Tim Peters\n",
      "\n",
      "Beautiful is better than ugly.\n",
      "Explicit is better than implicit.\n",
      "Simple is better than complex.\n",
      "Complex is better than complicated.\n",
      "Flat is better than nested.\n",
      "Sparse is better than dense.\n",
      "Readability counts.\n",
      "Special cases aren't special enough to break the rules.\n",
      "Although practicality beats purity.\n",
      "Errors should never pass silently.\n",
      "Unless explicitly silenced.\n",
      "In the face of ambiguity, refuse the temptation to guess.\n",
      "There should be one-- and preferably only one --obvious way to do it.\n",
      "Although that way may not be obvious at first unless you're Dutch.\n",
      "Now is better than never.\n",
      "Although never is often better than *right* now.\n",
      "If the implementation is hard to explain, it's a bad idea.\n",
      "If the implementation is easy to explain, it may be a good idea.\n",
      "Namespaces are one honking great idea -- let's do more of those!\n"
     ]
    }
   ],
   "source": [
    "import this"
   ]
  }
 ],
 "metadata": {
  "kernelspec": {
   "display_name": "Python 3 (ipykernel)",
   "language": "python",
   "name": "python3"
  },
  "language_info": {
   "codemirror_mode": {
    "name": "ipython",
    "version": 3
   },
   "file_extension": ".py",
   "mimetype": "text/x-python",
   "name": "python",
   "nbconvert_exporter": "python",
   "pygments_lexer": "ipython3",
   "version": "3.9.7"
  }
 },
 "nbformat": 4,
 "nbformat_minor": 5
}
