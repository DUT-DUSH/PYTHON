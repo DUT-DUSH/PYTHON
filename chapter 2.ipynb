{
 "cells": [
  {
   "cell_type": "markdown",
   "id": "25e6dc37",
   "metadata": {},
   "source": [
    "## 2.3 字符串"
   ]
  },
  {
   "cell_type": "code",
   "execution_count": 1,
   "id": "05b3cd5a",
   "metadata": {},
   "outputs": [
    {
     "ename": "NameError",
     "evalue": "name 'dd' is not defined",
     "output_type": "error",
     "traceback": [
      "\u001b[1;31m---------------------------------------------------------------------------\u001b[0m",
      "\u001b[1;31mNameError\u001b[0m                                 Traceback (most recent call last)",
      "\u001b[1;32m~\\AppData\\Local\\Temp/ipykernel_27556/1465270892.py\u001b[0m in \u001b[0;36m<module>\u001b[1;34m\u001b[0m\n\u001b[1;32m----> 1\u001b[1;33m \u001b[0mdd\u001b[0m\u001b[1;33m\u001b[0m\u001b[1;33m\u001b[0m\u001b[0m\n\u001b[0m",
      "\u001b[1;31mNameError\u001b[0m: name 'dd' is not defined"
     ]
    }
   ],
   "source": [
    "dd"
   ]
  },
  {
   "cell_type": "code",
   "execution_count": null,
   "id": "55a07ff2",
   "metadata": {},
   "outputs": [],
   "source": [
    "#可以用单引号也可以用双引号\n",
    "#有灵活性，可以在字符串中包含引号\n",
    "\n",
    "message = 'I told my friend , \"python is  my favorite language \"'\n",
    "print(message)"
   ]
  },
  {
   "cell_type": "markdown",
   "id": "1572a913",
   "metadata": {},
   "source": [
    "### 2.3.1 使用方法修改字符串大小写"
   ]
  },
  {
   "cell_type": "code",
   "execution_count": null,
   "id": "7904ded6",
   "metadata": {},
   "outputs": [],
   "source": [
    "name = \"ada lovelace\"\n",
    "\n",
    "# title() 首字母大写\n",
    "print(name.title())\n",
    "\n",
    "#upper() & lower()\n",
    "print(name.upper())\n",
    "print(name.lower())\n"
   ]
  },
  {
   "cell_type": "markdown",
   "id": "1879102d",
   "metadata": {},
   "source": [
    "### 2.3.2 在字符串中使用变量"
   ]
  },
  {
   "cell_type": "code",
   "execution_count": null,
   "id": "fe89c202",
   "metadata": {},
   "outputs": [],
   "source": [
    "first_name = \"ada\"\n",
    "last_name = \"lovelace\"\n",
    "\n",
    "# f字符串（fomat） \n",
    "full_name = f\"{first_name} {last_name}\"\n",
    "message = f\"Hello, {full_name.title()}!\"\n",
    "\n",
    "print(message)"
   ]
  },
  {
   "cell_type": "markdown",
   "id": "722eac3d",
   "metadata": {},
   "source": [
    "### 2.3.3 制表符以及换行符"
   ]
  },
  {
   "cell_type": "code",
   "execution_count": null,
   "id": "28d77909",
   "metadata": {},
   "outputs": [],
   "source": [
    "# 同C++\n",
    "print(\"Languages:\\n\\tpython\\n\\tC++\\n\\tjava\")"
   ]
  },
  {
   "cell_type": "markdown",
   "id": "cea0f988",
   "metadata": {},
   "source": [
    "### 2.3.4 删除空白"
   ]
  },
  {
   "cell_type": "code",
   "execution_count": null,
   "id": "471c06f3",
   "metadata": {
    "scrolled": true
   },
   "outputs": [],
   "source": [
    "#rstrip:删除字符串末尾空白\n",
    "#lstrip:删除字符串开头空白\n",
    "#strip:删除字符串两边空白\n",
    "\n",
    "message = \" python \"\n",
    "print(message.rstrip())\n",
    "print(message.lstrip())\n",
    "print(message.strip())\n",
    "\n",
    "#注：这样只是输出而已，变量没有改变，要message = message.strip()"
   ]
  },
  {
   "cell_type": "markdown",
   "id": "48241608",
   "metadata": {},
   "source": [
    "### 2.4 数"
   ]
  },
  {
   "cell_type": "markdown",
   "id": "fbf24702",
   "metadata": {},
   "source": [
    "### 2.4.1 整数与浮点数"
   ]
  },
  {
   "cell_type": "code",
   "execution_count": null,
   "id": "64b84142",
   "metadata": {},
   "outputs": [],
   "source": []
  },
  {
   "cell_type": "code",
   "execution_count": null,
   "id": "1d0118ae",
   "metadata": {},
   "outputs": [],
   "source": [
    "print(2+3)\n",
    "print(2-3)\n",
    "print(2*3)\n",
    "print(2/3)\n",
    "\n",
    "#幂运算\n",
    "print(2**3)\n",
    "print((2+3)*2)\n",
    "\n",
    "#任意两个数相除总是浮点数\n",
    "print(4/2)\n",
    "\n",
    "#只要有一个操作数是浮点数，结果总是浮点数\n",
    "print(1+2.0)\n",
    "print(2*3.0)\n",
    "print(3.0**2)"
   ]
  },
  {
   "cell_type": "markdown",
   "id": "df08ca90",
   "metadata": {},
   "source": [
    "### 2.4.4 数中的下划线"
   ]
  },
  {
   "cell_type": "code",
   "execution_count": null,
   "id": "f5a20d3f",
   "metadata": {},
   "outputs": [],
   "source": [
    "#可以使用下划线将数字分组，但仅供阅读使用\n",
    "\n",
    "universe_age = 14_000_000_000\n",
    "print(universe_age)"
   ]
  },
  {
   "cell_type": "markdown",
   "id": "525a4639",
   "metadata": {},
   "source": [
    "### 2.4.5 同时给多个变量赋值"
   ]
  },
  {
   "cell_type": "code",
   "execution_count": null,
   "id": "105c4e5f",
   "metadata": {},
   "outputs": [],
   "source": [
    "x,y,z = 0, 0, 0\n",
    "print(x)\n",
    "print(y)\n",
    "print(z)\n",
    "#通过全大写指出该变量为常量\n",
    "MAX_CONNECTIONS = 5000\n",
    "print(MAX_CONNECTIONS)"
   ]
  },
  {
   "cell_type": "markdown",
   "id": "875ece2b",
   "metadata": {},
   "source": [
    "### 2.6 python之禅"
   ]
  },
  {
   "cell_type": "code",
   "execution_count": null,
   "id": "783d2af5",
   "metadata": {},
   "outputs": [],
   "source": [
    "import this"
   ]
  }
 ],
 "metadata": {
  "kernelspec": {
   "display_name": "Python 3 (ipykernel)",
   "language": "python",
   "name": "python3"
  },
  "language_info": {
   "codemirror_mode": {
    "name": "ipython",
    "version": 3
   },
   "file_extension": ".py",
   "mimetype": "text/x-python",
   "name": "python",
   "nbconvert_exporter": "python",
   "pygments_lexer": "ipython3",
   "version": "3.9.7"
  }
 },
 "nbformat": 4,
 "nbformat_minor": 5
}
