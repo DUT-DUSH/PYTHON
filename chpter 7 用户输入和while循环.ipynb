{
 "cells": [
  {
   "cell_type": "markdown",
   "id": "5e9da239",
   "metadata": {},
   "source": [
    "## 7.1 input()"
   ]
  },
  {
   "cell_type": "code",
   "execution_count": 1,
   "id": "1069055c",
   "metadata": {},
   "outputs": [
    {
     "name": "stdout",
     "output_type": "stream",
     "text": [
      "If you tell me who you are, we can personalize the messages you see.\n",
      "What's your name? dush\n",
      "\n",
      "Hello, Dush!\n",
      "How old are you ?21\n",
      "True\n"
     ]
    }
   ],
   "source": [
    "# e.g.\n",
    "prompt = \"If you tell me who you are, we can personalize the messages you see.\"\n",
    "prompt+=\"\\nWhat's your name? \"\n",
    "name = input(prompt)    #用户输入解释为字符串\n",
    "print(f\"\\nHello, {name.title()}!\")\n",
    "\n",
    "\n",
    "#int()强制类型转换\n",
    "age = input(\"How old are you ?\")\n",
    "age = int(age)\n",
    "if age > 18:\n",
    "    print(\"True\")"
   ]
  },
  {
   "cell_type": "markdown",
   "id": "13ae58ca",
   "metadata": {},
   "source": [
    "## 7.2 while循环"
   ]
  },
  {
   "cell_type": "code",
   "execution_count": 2,
   "id": "a4e2b3fc",
   "metadata": {},
   "outputs": [
    {
     "name": "stdout",
     "output_type": "stream",
     "text": [
      "\n",
      "Tell me something, and I will repeat it back to you:\n",
      "Enter 'quit' to end the program. Hello\n",
      "Hello\n",
      "\n",
      "Tell me something, and I will repeat it back to you:\n",
      "Enter 'quit' to end the program. Hello again\n",
      "Hello again\n",
      "\n",
      "Tell me something, and I will repeat it back to you:\n",
      "Enter 'quit' to end the program. quit\n"
     ]
    }
   ],
   "source": [
    "prompt = \"\\nTell me something, and I will repeat it back to you:\"\n",
    "prompt+=\"\\nEnter 'quit' to end the program. \"\n",
    "\n",
    "#使用标志\n",
    "active = True\n",
    "while active:\n",
    "    message = input(prompt)\n",
    "    if message == 'quit':\n",
    "        active = False\n",
    "    else:\n",
    "        print(message)\n",
    "\n",
    "# break continue 用法同C++\n"
   ]
  },
  {
   "cell_type": "markdown",
   "id": "aef8297f",
   "metadata": {},
   "source": [
    "## 7.3 使用while循环处理列表和字典"
   ]
  },
  {
   "cell_type": "code",
   "execution_count": 4,
   "id": "b6d70991",
   "metadata": {},
   "outputs": [
    {
     "name": "stdout",
     "output_type": "stream",
     "text": [
      "[]\n",
      "['candace', 'brian', 'alice']\n",
      "['dog', 'glodfish']\n",
      "\n",
      "What's your name ?dush\n",
      "Which mountain would like to climb someday ?m1\n",
      "another person to respond? yes/noyes\n",
      "\n",
      "What's your name ?dush\n",
      "Which mountain would like to climb someday ?m2\n",
      "another person to respond? yes/nono\n",
      "Dush would like to climb m2.\n"
     ]
    }
   ],
   "source": [
    "#在列表中移动元素\n",
    "unconfirmed_users = ['alice', 'brian', 'candace']\n",
    "confirmed_users = []\n",
    "\n",
    "while unconfirmed_users:\n",
    "    current_user = unconfirmed_users.pop()\n",
    "    confirmed_users.append(current_user)\n",
    "    \n",
    "print(unconfirmed_users)\n",
    "print(confirmed_users)\n",
    "\n",
    "#删除为特定值的所有元素\n",
    "pets = ['cat', 'dog', 'glodfish', 'cat']\n",
    "while 'cat' in pets:\n",
    "    pets.remove('cat')\n",
    "print(pets)\n",
    "\n",
    "\n",
    "#使用用户输入来填充字典\n",
    "responses = {}\n",
    "active = True\n",
    "\n",
    "while active:\n",
    "    name = input(\"\\nWhat's your name ?\")\n",
    "    reponse = input(\"Which mountain would like to climb someday ?\")\n",
    "    \n",
    "    responses[name]=reponse\n",
    "    \n",
    "    repeat = input(\"another person to respond? yes/no\")\n",
    "    if repeat == 'no':\n",
    "        active = False\n",
    "\n",
    "for name, reponse in responses.items():\n",
    "    print(f\"{name.title()} would like to climb {reponse}.\")"
   ]
  }
 ],
 "metadata": {
  "kernelspec": {
   "display_name": "Python 3 (ipykernel)",
   "language": "python",
   "name": "python3"
  },
  "language_info": {
   "codemirror_mode": {
    "name": "ipython",
    "version": 3
   },
   "file_extension": ".py",
   "mimetype": "text/x-python",
   "name": "python",
   "nbconvert_exporter": "python",
   "pygments_lexer": "ipython3",
   "version": "3.9.7"
  }
 },
 "nbformat": 4,
 "nbformat_minor": 5
}
