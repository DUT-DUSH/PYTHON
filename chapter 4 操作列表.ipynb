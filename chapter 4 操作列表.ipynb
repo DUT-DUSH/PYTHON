{
 "cells": [
  {
   "cell_type": "markdown",
   "id": "4c55bf0f",
   "metadata": {},
   "source": [
    "## 4.1 遍历列表"
   ]
  },
  {
   "cell_type": "code",
   "execution_count": 1,
   "id": "a8d58936",
   "metadata": {},
   "outputs": [
    {
     "name": "stdout",
     "output_type": "stream",
     "text": [
      "alice\n",
      "david\n",
      "carolina\n",
      "Alice, that was a great trick!\n",
      "I can't wait to see you next trick, Alice.\n",
      "\n",
      "David, that was a great trick!\n",
      "I can't wait to see you next trick, David.\n",
      "\n",
      "Carolina, that was a great trick!\n",
      "I can't wait to see you next trick, Carolina.\n",
      "\n",
      "Thank you, everyone. That was a great magic show!\n"
     ]
    }
   ],
   "source": [
    "#用for循环遍历\n",
    "magicians = ['alice', 'david', 'carolina']\n",
    "for magician in magicians:\n",
    "    print(magician)\n",
    "    \n",
    "    \n",
    "#更多操作\n",
    "for magician in magicians:    \n",
    "    print(f\"{magician.title()}, that was a great trick!\")    #print换行输出也跟着换行，\\n是增加一个空白行\n",
    "    print(f\"I can't wait to see you next trick, {magician.title()}.\\n\")\n",
    "print(\"Thank you, everyone. That was a great magic show!\")"
   ]
  },
  {
   "cell_type": "markdown",
   "id": "21da4311",
   "metadata": {},
   "source": [
    "## 4.3 创建数值列表"
   ]
  },
  {
   "cell_type": "code",
   "execution_count": 2,
   "id": "42edbc51",
   "metadata": {},
   "outputs": [
    {
     "name": "stdout",
     "output_type": "stream",
     "text": [
      "1\n",
      "2\n",
      "3\n",
      "4\n",
      "\n",
      "\n",
      "0\n",
      "1\n",
      "2\n",
      "3\n",
      "4\n",
      "5\n",
      "[2, 4, 6, 8, 10]\n",
      "[1, 4, 9, 16, 25, 36, 49, 64, 81, 100]\n",
      "[1, 4, 9, 16, 25, 36, 49, 64, 81, 100]\n"
     ]
    }
   ],
   "source": [
    "#使用函数range()，左闭右开区间\n",
    "for value in range(1, 5):\n",
    "    print(value)\n",
    "    \n",
    "print(\"\\n\")    #单纯的print就带一个换行，|n又增加了一个换行，所以是两行空白\n",
    "\n",
    "for value in range(6):    #从0开始\n",
    "    print(value)\n",
    "    \n",
    "    \n",
    "    \n",
    "\n",
    "\n",
    "#使用range()创建数字列表\n",
    "numbers = list(range(2, 11, 2))\n",
    "print(numbers)\n",
    "\n",
    "#创建列表包含前十个整数的平方\n",
    "squares = []    #先定义一个空列表\n",
    "for value in range(1, 11):\n",
    "    squares.append(value**2)\n",
    "print(squares)\n",
    "\n",
    "\n",
    "\n",
    "\n",
    "\n",
    "#列表解析 \n",
    "#像是一个嵌套，先是一个numbers = []， 里面是循环操作\n",
    "numbers = [value**2 for value in range(1,11)]\n",
    "print(numbers)"
   ]
  },
  {
   "cell_type": "markdown",
   "id": "00fdab23",
   "metadata": {},
   "source": [
    "## 4.4 使用列表的一部分"
   ]
  },
  {
   "cell_type": "code",
   "execution_count": 3,
   "id": "f7b2d840",
   "metadata": {},
   "outputs": [
    {
     "name": "stdout",
     "output_type": "stream",
     "text": [
      "['charles', 'martina', 'michael', 'florence', 'eli']\n",
      "['charles', 'martina', 'michael', 'florence']\n",
      "['michael', 'florence', 'eli']\n",
      "['florence', 'eli']\n",
      "['charles', 'michael', 'eli']\n",
      "\n",
      "\n",
      "Charles\n",
      "Martina\n",
      "Michael\n",
      "My foods are:  ['pizza', 'falafel', 'carrot cake', 'cannoli']\n",
      "My friend foods are:  ['pizza', 'falafel', 'carrot cake', 'ice cream']\n"
     ]
    }
   ],
   "source": [
    "#切片\n",
    "players = ['charles', 'martina', 'michael', 'florence', 'eli']\n",
    "print(players[0:5])\n",
    "print(players[:4])\n",
    "print(players[2:])\n",
    "print(players[-2:])\n",
    "print(players[0:5:2])\n",
    "\n",
    "\n",
    "print(\"\\n\")\n",
    "# 遍历切片\n",
    "for player in players[:3]:\n",
    "    print(player.title())\n",
    "\n",
    "    \n",
    "#复制列表：通过不指定任何索引的切片实现\n",
    "#如果直接my_foods = friend_foods，那么这两个变量指向同一个列表，会同步修改\n",
    "my_foods = ['pizza', 'falafel', 'carrot cake']\n",
    "friend_foods = my_foods[:]\n",
    "\n",
    "my_foods.append('cannoli')\n",
    "friend_foods.append('ice cream')\n",
    "print(\"My foods are: \",my_foods)\n",
    "print(\"My friend foods are: \",friend_foods)"
   ]
  },
  {
   "cell_type": "markdown",
   "id": "ba9bb87e",
   "metadata": {},
   "source": [
    "## 4.5 元组"
   ]
  },
  {
   "cell_type": "code",
   "execution_count": 4,
   "id": "9527e5da",
   "metadata": {},
   "outputs": [
    {
     "name": "stdout",
     "output_type": "stream",
     "text": [
      "50\n",
      "3\n",
      "\n",
      "200\n",
      "50\n",
      "400\n",
      "100\n"
     ]
    }
   ],
   "source": [
    "#列表：可以修改    元组：不可修改\n",
    "dimensions = (200, 50)\n",
    "print(dimensions[1])\n",
    "\n",
    "#dimensions[0] = 250    #不可修改，会出错\n",
    "\n",
    "my_t = (3,)    #严格说，元组由逗号标识，所以即使只有一个元素也要加逗号\n",
    "print(my_t[0])\n",
    "\n",
    "\n",
    "print()\n",
    "\n",
    "#元组不可修改，但是存储元组的变量可以重新赋值\n",
    "for dimension in dimensions:\n",
    "    print(dimension)\n",
    "\n",
    "dimensions = (400 ,100)\n",
    "for dimension in dimensions:\n",
    "    print(dimension)"
   ]
  }
 ],
 "metadata": {
  "kernelspec": {
   "display_name": "Python 3 (ipykernel)",
   "language": "python",
   "name": "python3"
  },
  "language_info": {
   "codemirror_mode": {
    "name": "ipython",
    "version": 3
   },
   "file_extension": ".py",
   "mimetype": "text/x-python",
   "name": "python",
   "nbconvert_exporter": "python",
   "pygments_lexer": "ipython3",
   "version": "3.9.7"
  }
 },
 "nbformat": 4,
 "nbformat_minor": 5
}
