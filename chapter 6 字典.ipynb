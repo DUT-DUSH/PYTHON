{
 "cells": [
  {
   "cell_type": "markdown",
   "id": "4edb9f19",
   "metadata": {},
   "source": [
    "## 6.1 e.g."
   ]
  },
  {
   "cell_type": "code",
   "execution_count": 1,
   "id": "3bb966dc",
   "metadata": {},
   "outputs": [
    {
     "name": "stdout",
     "output_type": "stream",
     "text": [
      "green\n",
      "5\n"
     ]
    }
   ],
   "source": [
    "alien_0 = {'color': 'green', 'points': 5}\n",
    "\n",
    "print(alien_0['color'])\n",
    "print(alien_0['points'])\n"
   ]
  },
  {
   "cell_type": "markdown",
   "id": "f0ed3a83",
   "metadata": {},
   "source": [
    "## 6.2 使用字典"
   ]
  },
  {
   "cell_type": "code",
   "execution_count": 2,
   "id": "34c2abae",
   "metadata": {},
   "outputs": [
    {
     "name": "stdout",
     "output_type": "stream",
     "text": [
      "{'color': 'green', 'points': 5, 'x_pos': 0, 'y_pos': 25}\n",
      "{'color': 'green', 'x_pos': 0, 'y_pos': 25}\n",
      "Sarah's favorite language is C\n",
      "No point\n"
     ]
    }
   ],
   "source": [
    "alien = {'color': 'green', 'points': 5}\n",
    "#添加键值对\n",
    "alien['x_pos'] = 0;\n",
    "alien['y_pos'] = 25;\n",
    "print(alien)\n",
    "\n",
    "\n",
    "#删除键值对\n",
    "del alien['points']\n",
    "print(alien)\n",
    "\n",
    "#由类似对象组成的字典\n",
    "favorite_languages = {\n",
    "    'jen' : 'python',    #注意是：而不是=\n",
    "    'sarah' : 'c',\n",
    "    'edward' : 'ruby',\n",
    "    'phil' : 'python',\n",
    "    }    #注意缩进\n",
    "\n",
    "language = favorite_languages['sarah'].title()\n",
    "print(f\"Sarah's favorite language is {language}\")\n",
    "\n",
    "#使用get()访问\n",
    "point_value = alien.get('points', 'No point')#避免没有键值对而出错，会给你反馈\n",
    "print(point_value)"
   ]
  },
  {
   "cell_type": "markdown",
   "id": "624f50dd",
   "metadata": {},
   "source": [
    "## 6.3 遍历字典"
   ]
  },
  {
   "cell_type": "code",
   "execution_count": 3,
   "id": "1505a43d",
   "metadata": {},
   "outputs": [
    {
     "name": "stdout",
     "output_type": "stream",
     "text": [
      "Jen's favorite language is Python.\n",
      "Sarah's favorite language is C.\n",
      "Edward's favorite language is Ruby.\n",
      "Phil's favorite language is Python.\n",
      "\n",
      "Jen\n",
      "Sarah\n",
      "sarah! I see you \n",
      "Edward\n",
      "Phil\n",
      "phil! I see you \n",
      "Not find\n",
      "\n",
      "Edward\n",
      "Jen\n",
      "Phil\n",
      "Sarah\n",
      "\n",
      "C\n",
      "Ruby\n",
      "Python\n"
     ]
    }
   ],
   "source": [
    "#遍历所有键值对\n",
    "favorite_languages = {\n",
    "    'jen' : 'python',    \n",
    "    'sarah' : 'c',\n",
    "    'edward' : 'ruby',\n",
    "    'phil' : 'python',\n",
    "    }    \n",
    "\n",
    "for key, value in favorite_languages.items():    #items()方法返回一个键值对列表\n",
    "    print(f\"{key.title()}'s favorite language is {value.title()}.\")\n",
    "\n",
    "print() \n",
    "#遍历所有键\n",
    "friends = ['phil', 'sarah']\n",
    "for key in favorite_languages.keys():    #keys()方法返回key，如果不写keys方法也会默认输出key\n",
    "    print(key.title())\n",
    "    if key in friends:\n",
    "        print(f\"{key}! I see you \")\n",
    "        \n",
    "if 'erin' not in favorite_languages.keys():    #keys()返回一个列表，所以可以判断是否在列表中\n",
    "    print(\"Not find\")\n",
    "\n",
    "print()\n",
    "#按照顺序遍历列表中的所有值\n",
    "for name in sorted(favorite_languages.keys()):\n",
    "    print(name.title())\n",
    "\n",
    "print()   \n",
    "#遍历字典中的所有值\n",
    "for language in set(favorite_languages.values()):    #values()方法返回value，set 返回一个不重复的集合\n",
    "    print(language.title())\n",
    "    \n"
   ]
  },
  {
   "cell_type": "markdown",
   "id": "8213050b",
   "metadata": {},
   "source": [
    "## 6.4 嵌套"
   ]
  },
  {
   "cell_type": "code",
   "execution_count": 4,
   "id": "3d4fa790",
   "metadata": {},
   "outputs": [
    {
     "name": "stdout",
     "output_type": "stream",
     "text": [
      "{'color': 'red', 'points': 10, 'speed': 'fast'}\n",
      "{'color': 'red', 'points': 10, 'speed': 'fast'}\n",
      "{'color': 'red', 'points': 10, 'speed': 'fast'}\n",
      "{'color': 'green', 'points': 5, 'speed': 'slow'}\n",
      "{'color': 'green', 'points': 5, 'speed': 'slow'}\n",
      "\n",
      "\n",
      "\n",
      "Jen's favorite language are:\n",
      "\tpython\n",
      "\truby\n",
      "\n",
      "Sarah's favorite language is:\n",
      "\tc\n",
      "\n",
      "Edward's favorite language are:\n",
      "\truby\n",
      "\tgo\n",
      "\n",
      "Phil's favorite language are:\n",
      "\tpython\n",
      "\thaskell\n",
      "\n",
      "\n",
      "\n",
      " Username: Aeinstein\n",
      "\tFull name: Alberteinstein\n",
      "\tLocation: princeton\n",
      "\n",
      " Username: Mcurie\n",
      "\tFull name: Mariecurie\n",
      "\tLocation: paris\n"
     ]
    }
   ],
   "source": [
    "#字典列表:是一个列表，其中包含若干字典\n",
    "aliens = []\n",
    "for alien_number in range(30):\n",
    "    new_alien={'color': 'green', 'points': 5, 'speed': 'slow'}\n",
    "    aliens.append(new_alien)\n",
    "\n",
    "for alien in aliens[:3]:\n",
    "    if alien['color'] == 'green':\n",
    "        alien['color'] = 'red'\n",
    "        alien['points'] = 10\n",
    "        alien['speed'] = 'fast'\n",
    "\n",
    "for alien in aliens[:5]:\n",
    "    print(alien)\n",
    "    \n",
    "    \n",
    "    \n",
    "    \n",
    "print(\"\\n\")       \n",
    "#列表字典：是一个字典，其中包含若干列表\n",
    "favorite_languages = {\n",
    "    'jen': ['python', 'ruby'],\n",
    "    'sarah': ['c'],\n",
    "    'edward': ['ruby', 'go'],\n",
    "    'phil':['python', 'haskell'],\n",
    "    }\n",
    "\n",
    "for name, languages in favorite_languages.items():\n",
    "    if(len(languages)==1):\n",
    "         print(f\"\\n{name.title()}'s favorite language is:\")\n",
    "    else:\n",
    "         print(f\"\\n{name.title()}'s favorite language are:\")\n",
    "    for language in languages:\n",
    "            print(f\"\\t{language}\")\n",
    "\n",
    "            \n",
    "            \n",
    "            \n",
    "print(\"\\n\")\n",
    "#字典中嵌套字典\n",
    "users = {\n",
    "    'aeinstein': {    #虽然是嵌套字典，但这里服从了上级的语法即：而不是=\n",
    "        'first': 'albert',\n",
    "        'last': 'einstein',\n",
    "        'location': 'princeton',\n",
    "        },\n",
    "    'mcurie': {\n",
    "        'first': 'marie',\n",
    "        'last': 'curie',\n",
    "        'location': 'paris',\n",
    "        }\n",
    "    }\n",
    "\n",
    "for username, user_info in users.items():\n",
    "    print(f\"\\n Username: {username.title()}\")\n",
    "    full_name = f\"{user_info['first']}{user_info['last']}\"\n",
    "    location = user_info['location']\n",
    "    \n",
    "    print(f\"\\tFull name: {full_name.title()}\")\n",
    "    print(f\"\\tLocation: {location}\")\n",
    "    "
   ]
  }
 ],
 "metadata": {
  "kernelspec": {
   "display_name": "Python 3 (ipykernel)",
   "language": "python",
   "name": "python3"
  },
  "language_info": {
   "codemirror_mode": {
    "name": "ipython",
    "version": 3
   },
   "file_extension": ".py",
   "mimetype": "text/x-python",
   "name": "python",
   "nbconvert_exporter": "python",
   "pygments_lexer": "ipython3",
   "version": "3.9.7"
  }
 },
 "nbformat": 4,
 "nbformat_minor": 5
}
