{
 "cells": [
  {
   "cell_type": "markdown",
   "id": "9a44ef56",
   "metadata": {},
   "source": [
    "## 5.1 e.g."
   ]
  },
  {
   "cell_type": "code",
   "execution_count": 1,
   "id": "d9c81e55",
   "metadata": {},
   "outputs": [
    {
     "name": "stdout",
     "output_type": "stream",
     "text": [
      "Audi\n",
      "BMW\n",
      "Subaru\n",
      "Toyota\n"
     ]
    }
   ],
   "source": [
    "cars = ['audi', 'bmw', 'subaru', 'toyota']\n",
    "\n",
    "for car in cars:\n",
    "    if car == 'bmw':    #for 和 if 和 else 后面都有 ：\n",
    "        print(car.upper())\n",
    "    else:\n",
    "        print(car.title())"
   ]
  },
  {
   "cell_type": "code",
   "execution_count": 2,
   "id": "beaa91bc",
   "metadata": {},
   "outputs": [
    {
     "name": "stdout",
     "output_type": "stream",
     "text": [
      "Great! sarah is still aviliable!\n",
      "sorry willie, that name is taken.\n",
      "Great! PHTL is still aviliable!\n",
      "sorry ever, that name is taken.\n",
      "Great! Iona is still aviliable!\n"
     ]
    }
   ],
   "source": [
    "current_users = ['eric', 'willie', 'admin', 'erin', 'Ever']\n",
    "new_users = ['sarah', 'willie', 'PHTL', 'ever', 'Iona']\n",
    "current_users_lower = [user.lower() for user in current_users]    #用列表解析方便\n",
    "\n",
    "for user in new_users:\n",
    "    if user.lower() in current_users_lower:\n",
    "        print(f\"sorry {user}, that name is taken.\")\n",
    "    else:\n",
    "        print(f\"Great! {user} is still aviliable!\")\n",
    "        \n"
   ]
  }
 ],
 "metadata": {
  "kernelspec": {
   "display_name": "Python 3 (ipykernel)",
   "language": "python",
   "name": "python3"
  },
  "language_info": {
   "codemirror_mode": {
    "name": "ipython",
    "version": 3
   },
   "file_extension": ".py",
   "mimetype": "text/x-python",
   "name": "python",
   "nbconvert_exporter": "python",
   "pygments_lexer": "ipython3",
   "version": "3.9.7"
  }
 },
 "nbformat": 4,
 "nbformat_minor": 5
}
