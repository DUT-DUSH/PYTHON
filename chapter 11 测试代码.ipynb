{
 "cells": [
  {
   "cell_type": "markdown",
   "id": "f59c11bb",
   "metadata": {},
   "source": [
    "## 11.1 测试函数 （针对函数的测试）"
   ]
  },
  {
   "cell_type": "code",
   "execution_count": 1,
   "id": "0c3e86c0",
   "metadata": {},
   "outputs": [
    {
     "name": "stderr",
     "output_type": "stream",
     "text": [
      "..\n",
      "----------------------------------------------------------------------\n",
      "Ran 2 tests in 0.014s\n",
      "\n",
      "OK\n"
     ]
    }
   ],
   "source": [
    "import unittest\n",
    "\n",
    "def get_formatted_name(first, last, middle=''):\n",
    "    if middle:\n",
    "        full_name = f\"{first} {middle} {last}\"\n",
    "    else:\n",
    "        full_name = f\"{first} {last}\"\n",
    "    return full_name.title()\n",
    "\n",
    "class NamesTestCase(unittest.TestCase):\n",
    "\n",
    "    def test_first_last_name(self):     #测试函数必须以test_开头 #self是指向实例本身的引用\n",
    "        formatted_name = get_formatted_name('janis', 'joplin')\n",
    "        self.assertEqual(formatted_name,'Janis Joplin')     #测试两个参数是否相等\n",
    "\n",
    "    def test_first_middle_last_name(self):\n",
    "        formatted_name = get_formatted_name('wolfgang', 'mozart', 'amadeus')\n",
    "        self.assertEqual(formatted_name, 'Wolfgang Amadeus Mozart')\n",
    "\n",
    "if __name__ == '__main__':    #如果作为主程序执行\n",
    "    unittest.main(argv=['first-arg-is-ignored'], exit=False)     #运行测试用例\n"
   ]
  },
  {
   "cell_type": "markdown",
   "id": "a45e58d3",
   "metadata": {},
   "source": [
    "## 11.2 测试类 （针对类的测试）"
   ]
  },
  {
   "cell_type": "code",
   "execution_count": 2,
   "id": "55b0c1aa",
   "metadata": {},
   "outputs": [
    {
     "name": "stderr",
     "output_type": "stream",
     "text": [
      "....\n",
      "----------------------------------------------------------------------\n",
      "Ran 4 tests in 0.010s\n",
      "\n",
      "OK\n"
     ]
    }
   ],
   "source": [
    "import unittest\n",
    "\n",
    "\n",
    "class AnonmousSurvey:\n",
    "    \"\"\"收集匿名调查问卷的答案\"\"\"\n",
    "\n",
    "    def __init__(self, question):\n",
    "        self.question = question\n",
    "        self.responses = []\n",
    "\n",
    "    def show_question(self):\n",
    "        print(self.question)\n",
    "\n",
    "    def store_responses(self, new_response):\n",
    "        self.responses.append(new_response)\n",
    "\n",
    "    def show_results(self):\n",
    "        print(\"Survey results: \")\n",
    "        for response in self.responses:\n",
    "            print(f\"- {response}\")\n",
    "\n",
    "\n",
    "class TestAnonmousSurvey(unittest.TestCase):\n",
    "    def setUp(self):    #py先运行setUP()方法再运行test_打头的方法\n",
    "        \"\"\"创建一个调查对象和一组答案，供使用的测试方法使用\"\"\"\n",
    "        question = \"What language did you first learn to speak?\"\n",
    "        self.my_survey = AnonmousSurvey(question)   #创建一个对象\n",
    "        self.responses = ['English', 'Spanish', 'Mandarin']\n",
    "\n",
    "    def test_store_single_response(self):\n",
    "        self.my_survey.store_responses(self.responses[0])\n",
    "        self.assertIn(self.responses[0], self.my_survey.responses)  #第二个参数是否包含第一个参数\n",
    "\n",
    "    def test_store_three_response(self):\n",
    "        for response in self.responses:\n",
    "            self.my_survey.store_responses(response)\n",
    "        for response in self.responses:\n",
    "            self.assertIn(response, self.my_survey.responses)\n",
    "\n",
    "if __name__ == '__main__':\n",
    "    unittest.main(argv=['first-arg-is-ignored'], exit=False)\n"
   ]
  }
 ],
 "metadata": {
  "kernelspec": {
   "display_name": "Python 3 (ipykernel)",
   "language": "python",
   "name": "python3"
  },
  "language_info": {
   "codemirror_mode": {
    "name": "ipython",
    "version": 3
   },
   "file_extension": ".py",
   "mimetype": "text/x-python",
   "name": "python",
   "nbconvert_exporter": "python",
   "pygments_lexer": "ipython3",
   "version": "3.9.7"
  }
 },
 "nbformat": 4,
 "nbformat_minor": 5
}
